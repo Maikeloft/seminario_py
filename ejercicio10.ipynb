{
 "cells": [
  {
   "cell_type": "markdown",
   "metadata": {},
   "source": [
    "10. Un club de hockey posee las estadísticas de todxs sus jugadorxs de la última\n",
    "temporada jugada del torneo de hockey mixto.\n",
    "Poseen una lista con los nombres, otra\n",
    "con los goles a favor, otra con los goles evitados y la última con las asistencias\n",
    "realizadas. El club está por otorgar los premios de cierre de temporada y necesita:"
   ]
  },
  {
   "cell_type": "code",
   "execution_count": 79,
   "metadata": {},
   "outputs": [],
   "source": [
    "names = \"\"\" Agustin, Yanina, Andrés, Ariadna, Bautista, CAROLINA,\n",
    "CESAR, David, Diego, Dolores, DYLAN, ELIANA, Emanuel, Fabián, Noelia,\n",
    "Francsica', FEDERICO, Fernanda, GONZALO, Nancy \"\"\"\n",
    "goals = [0, 10, 4, 0, 5, 14, 0, 0, 7, 2, 1, 1, 1, 5, 6, 1, 1, 2, 0,11]\n",
    "goals_avoided = [0, 2, 0, 0, 5, 2, 0, 0, 1, 2, 0, 5, 5, 0, 1, 0, 2, 3, 0, 0]\n",
    "assists = [0, 5, 1, 0, 5, 2, 0, 0, 1, 2, 1, 5, 5, 0, 1, 0, 2, 3, 1, 0]"
   ]
  },
  {
   "cell_type": "markdown",
   "metadata": {},
   "source": [
    "1. Generar una estructura todas las estadísticas asociadas a cada jugador o jugadora.\n",
    "\n",
    "    **(importo Modulos, contiene todas las funciones.)**"
   ]
  },
  {
   "cell_type": "code",
   "execution_count": 80,
   "metadata": {},
   "outputs": [
    {
     "name": "stdout",
     "output_type": "stream",
     "text": [
      "[('Agustin', 0, 0, 0), ('Yanina', 10, 2, 5), ('Andrés', 4, 0, 1), ('Ariadna', 0, 0, 0), ('Bautista', 5, 5, 5), ('CAROLINA', 14, 2, 2), ('CESAR', 0, 0, 0), ('David', 0, 0, 0), ('Diego', 7, 1, 1), ('Dolores2', 2, 2, 2), ('DYLAN2', 1, 0, 1), ('ELIANA', 1, 5, 5), ('Emanuel', 1, 5, 5), ('Fabián', 5, 0, 0), ('Noelia', 6, 1, 1), ('Francica', 1, 0, 0), ('FEDERICO', 1, 2, 2), ('Fernanda', 2, 3, 3), ('GONZALO', 0, 0, 1), ('Nancy', 11, 0, 0)]\n"
     ]
    }
   ],
   "source": [
    "import Modulos \n",
    "names_players = (\"Agustin\", \"Yanina\", \"Andrés\", \"Ariadna\", \"Bautista\", \"CAROLINA\",\n",
    "\"CESAR\", \"David\", \"Diego\", \"Dolores2\", \"DYLAN2\", \"ELIANA\", \"Emanuel\", \"Fabián\", \"Noelia\",\n",
    "\"Francica\", \"FEDERICO\", \"Fernanda\", \"GONZALO\", \"Nancy\")\n",
    "\n",
    "players_stats  = []\n",
    "\n",
    "for index, name in enumerate(names_players):\n",
    "    goal = goals[index]\n",
    "    assist = assists[index]\n",
    "    goal_avoided = goals_avoided[index]\n",
    "    player_tuple = (name, goal, goal_avoided, assist)\n",
    "    players_stats.append(player_tuple)\n",
    "\n",
    "print(players_stats)"
   ]
  },
  {
   "cell_type": "markdown",
   "metadata": {},
   "source": [
    "2. Conocer el nombre y la cantidad de goles del goleador o goleadora."
   ]
  },
  {
   "cell_type": "code",
   "execution_count": 81,
   "metadata": {},
   "outputs": [
    {
     "name": "stdout",
     "output_type": "stream",
     "text": [
      "El goleador o goleadora es CAROLINA tiene 14 goles!!! Felicidades!\n"
     ]
    }
   ],
   "source": [
    "player  = Modulos.best_goal_scorer(players_stats)\n",
    "\n",
    "name = player[0]\n",
    "goals = player[1]\n",
    "\n",
    "print(f\"El goleador o goleadora es {name} tiene {goals} goles!!! Felicidades!\")"
   ]
  },
  {
   "attachments": {
    "image.png": {
     "image/png": "[encoded data removed]"
    }
   },
   "cell_type": "markdown",
   "metadata": {},
   "source": [
    "3. Conocer el nombre del jugador o jugadora más influyente, esto se consigue\n",
    "sumando goles a favor, goles evitados y cantidad de asistencias.\n",
    "La particularidad es que los goles a favor, evitados y las asistencias NO valen lo mismo (es un\n",
    "promedio ponderado):\n",
    "\n",
    "\n",
    "![image.png](attachment:image.png)"
   ]
  },
  {
   "cell_type": "code",
   "execution_count": 82,
   "metadata": {},
   "outputs": [
    {
     "name": "stdout",
     "output_type": "stream",
     "text": [
      "La jugadora o jugador mas influyente de todos es : CAROLINA!!! Felicidades!\n"
     ]
    }
   ],
   "source": [
    "print(f\"La jugadora o jugador mas influyente de todos es : {Modulos.most_influential(players_stats)}!!! Felicidades!\")\n"
   ]
  },
  {
   "cell_type": "markdown",
   "metadata": {},
   "source": [
    "4. Conocer el promedio de goles por partido del equipo en general. Dato: Se jugaron\n",
    "25 partidos en la temporada."
   ]
  },
  {
   "cell_type": "code",
   "execution_count": 83,
   "metadata": {},
   "outputs": [
    {
     "name": "stdout",
     "output_type": "stream",
     "text": [
      "El promedio de goles por partido del equipo en general es 2.84\n"
     ]
    }
   ],
   "source": [
    "print(f\"El promedio de goles por partido del equipo en general es {Modulos.average_goals(players_stats)}\")"
   ]
  },
  {
   "cell_type": "markdown",
   "metadata": {},
   "source": [
    "5. Conocer el promedio de goles por partido del goleador o goleadora. Dato: Se\n",
    "jugaron 25 partidos en la temporada."
   ]
  },
  {
   "cell_type": "code",
   "execution_count": 84,
   "metadata": {},
   "outputs": [
    {
     "name": "stdout",
     "output_type": "stream",
     "text": [
      "El promedio de goles por partido de la goleadora CAROLINA es: 0.56, en 25 partidos disputados.\n"
     ]
    }
   ],
   "source": [
    "average = Modulos.average_goal_scorer(player)\n",
    "\n",
    "print(f\"El promedio de goles por partido de la goleadora {player[0]} es: {average}, en 25 partidos disputados.\")\n"
   ]
  }
 ],
 "metadata": {
  "kernelspec": {
   "display_name": "Python 3",
   "language": "python",
   "name": "python3"
  },
  "language_info": {
   "codemirror_mode": {
    "name": "ipython",
    "version": 3
   },
   "file_extension": ".py",
   "mimetype": "text/x-python",
   "name": "python",
   "nbconvert_exporter": "python",
   "pygments_lexer": "ipython3",
   "version": "3.11.7"
  }
 },
 "nbformat": 4,
 "nbformat_minor": 2
}
